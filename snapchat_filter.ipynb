{
 "cells": [
  {
   "cell_type": "code",
   "execution_count": 9,
   "metadata": {},
   "outputs": [],
   "source": [
    "import numpy as np\n",
    "import cv2\n",
    "#from PIL import Image, ImageDraw\n",
    "filter =cv2.imread(\"dogface.png\",-1)\n",
    "#print(filter.size)\n",
    "face_cascade = cv2.CascadeClassifier('haarcascade_frontalface_default.xml')\n",
    "cap = cv2.VideoCapture(0)\n",
    "def transparentOverlay(src, overlay, pos=(0, 0), scale=1):\n",
    "    overlay = cv2.resize(overlay, (0, 0), fx=scale, fy=scale)\n",
    "    h, w, _ = overlay.shape  # Size of foreground\n",
    "    rows, cols, _ = src.shape  # Size of background Image\n",
    "    y, x = pos[0], pos[1]  # Position of foreground/overlay image\n",
    "\n",
    "    for i in range(h):\n",
    "        for j in range(w):\n",
    "            if x + i >= rows or y + j >= cols:\n",
    "                continue\n",
    "            alpha = float(overlay[i][j][3] / 255.0)  # read the alpha channel\n",
    "            src[x + i][y + j] = alpha * overlay[i][j][:3] + (1 - alpha) * src[x + i][y + j]\n",
    "    return src\n",
    "while 1:\n",
    "    ret, img = cap.read()\n",
    "    gray = cv2.cvtColor(img, cv2.COLOR_BGR2GRAY)\n",
    "    faces = face_cascade.detectMultiScale(gray, 1.3, 5)\n",
    "    for (x,y,w,h) in faces:\n",
    "        \n",
    "        sh_mus = mus_symax - mus_symin\n",
    "        #cv2.rectangle(img,(x,y),(x+w,y+h),(25,10,120),15)\n",
    "        face = img[y:y+h, x:x + w]\n",
    "        fil=cv2.resize(filter,(w,h),interpolation=cv2.INTER_CUBIC)\n",
    "        transparentOverlay(face,fil)\n",
    "        #img.paste(filter_resized,(x,y),filter_resized)\n",
    "    cv2.imshow('img',img)\n",
    "    \n",
    "    if cv2.waitKey(1)==13:\n",
    "        break\n",
    "\n",
    "\n",
    "cap.release()\n",
    "cv2.destroyAllWindows()"
   ]
  },
  {
   "cell_type": "code",
   "execution_count": null,
   "metadata": {},
   "outputs": [],
   "source": []
  }
 ],
 "metadata": {
  "kernelspec": {
   "display_name": "Python 3",
   "language": "python",
   "name": "python3"
  },
  "language_info": {
   "codemirror_mode": {
    "name": "ipython",
    "version": 3
   },
   "file_extension": ".py",
   "mimetype": "text/x-python",
   "name": "python",
   "nbconvert_exporter": "python",
   "pygments_lexer": "ipython3",
   "version": "3.8.3"
  }
 },
 "nbformat": 4,
 "nbformat_minor": 4
}
